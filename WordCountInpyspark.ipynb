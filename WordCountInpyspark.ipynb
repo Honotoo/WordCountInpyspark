{
 "cells": [
  {
   "cell_type": "code",
   "execution_count": 1,
   "id": "822cc5c4-5302-4536-9649-23b5470198da",
   "metadata": {},
   "outputs": [
    {
     "name": "stdout",
     "output_type": "stream",
     "text": [
      "['input\\\\bulgakov_m_a__master_i_margarita.txt', 'input\\\\bulgakov_m_a__sobache_serdce.txt', 'input\\\\bunin_ivan_zhizn_arseneva.txt', 'input\\\\gogol_n_v__mertvye_dushi.txt', 'input\\\\goncharov_i_a__oblomov.txt', 'input\\\\sholohov_m_a__tihiy_don.txt']\n"
     ]
    }
   ],
   "source": [
    "# Получим список файлов, с которыми будем работать\n",
    "\n",
    "import os\n",
    "import re\n",
    "def giveListOfiles(folderName):\n",
    "    filesList = []\n",
    "    for dirpath, dirnames, filenames in os.walk(folderName):\n",
    "        for filename in filenames:\n",
    "            filesList.append(str(os.path.join(dirpath, filename)))\n",
    "    for each in filesList:\n",
    "        if not re.search(r\".+[?=txt]\", each, flags=re.MULTILINE):\n",
    "            filesList.remove(each)\n",
    "    return filesList\n",
    "\n",
    "Files = giveListOfiles(\"input\")\n",
    "print(Files)"
   ]
  },
  {
   "cell_type": "code",
   "execution_count": 2,
   "id": "a622f50f-43b7-493d-b6c4-fa878d64a595",
   "metadata": {},
   "outputs": [],
   "source": [
    "# Поскольку тут для удобства используется findspark, нужно ему указать сам спарк, иначе не заведется\n",
    "\n",
    "import findspark\n",
    "findspark.init()"
   ]
  },
  {
   "cell_type": "code",
   "execution_count": 3,
   "id": "baac0dd9-97d6-4d65-8940-beb94f2248c5",
   "metadata": {},
   "outputs": [
    {
     "name": "stdout",
     "output_type": "stream",
     "text": [
      "spark version: 3.3.1 sc: <SparkContext master=local appName=program>\n"
     ]
    }
   ],
   "source": [
    "# Создаем Сессию и контекст Спарка\n",
    "\n",
    "from pyspark.sql import SparkSession\n",
    "spark = SparkSession.builder.master(\"local\").appName('program').getOrCreate()\n",
    "sc=spark.sparkContext\n",
    "print(\"spark version:\",spark.version,\"sc:\",sc)"
   ]
  },
  {
   "cell_type": "code",
   "execution_count": 4,
   "id": "6c3b0f67-cb4b-4be3-99d2-202af02b49a6",
   "metadata": {},
   "outputs": [],
   "source": [
    "# Читаем итеративно каждый файл. Первый читается как textFile и записываем в базовый. Остальные конкатенируем с первым.\n",
    "\n",
    "text_file = None\n",
    "for each in Files:\n",
    "    if Files.index(each) == 0:\n",
    "        text_file = sc.textFile(Files[0]) \n",
    "        continue\n",
    "    neText= sc.textFile(each)\n",
    "    text_file.union(neText).collect()"
   ]
  },
  {
   "cell_type": "code",
   "execution_count": 5,
   "id": "000e6298-471d-40a3-93c8-a7d36c8b0519",
   "metadata": {},
   "outputs": [
    {
     "name": "stdout",
     "output_type": "stream",
     "text": [
      "<class 'pyspark.rdd.RDD'>\n"
     ]
    }
   ],
   "source": [
    "# посмотрим, что тип RDD. \n",
    "\n",
    "print(type(text_file))"
   ]
  },
  {
   "cell_type": "code",
   "execution_count": 6,
   "id": "3e6baa96-213f-4fd8-87fe-24ea9edc9090",
   "metadata": {},
   "outputs": [],
   "source": [
    "# Разделяем текст на отдельный слова - делителем берем пробел\n",
    "\n",
    "flatMapped = text_file.flatMap(lambda line: line.split(\" \"))"
   ]
  },
  {
   "cell_type": "code",
   "execution_count": 7,
   "id": "03f7b7a9-4787-4244-b619-f731c31f2a72",
   "metadata": {},
   "outputs": [
    {
     "name": "stdout",
     "output_type": "stream",
     "text": [
      "<class 'pyspark.rdd.PipelinedRDD'>\n"
     ]
    }
   ],
   "source": [
    "# Что мы в итоге сделали\n",
    "\n",
    "print(type(flatMapped))"
   ]
  },
  {
   "cell_type": "code",
   "execution_count": 8,
   "id": "ef9186a2-b2b1-490d-b18a-63e76d8f38d3",
   "metadata": {},
   "outputs": [],
   "source": [
    "# Применяем map функцию. к каждому элементу мы присваиваем значение 1 и делаем пары ключ:значение\n",
    "\n",
    "mapped = flatMapped.map(lambda word: (word, 1))"
   ]
  },
  {
   "cell_type": "code",
   "execution_count": 10,
   "id": "40656e7e-4abd-4360-bd8d-bf34ab18faea",
   "metadata": {},
   "outputs": [
    {
     "data": {
      "text/plain": [
       "[('*******************************************', 1),\n",
       " ('', 1),\n",
       " ('', 1),\n",
       " ('', 1),\n",
       " ('', 1),\n",
       " ('', 1),\n",
       " ('', 1),\n",
       " ('', 1),\n",
       " ('', 1),\n",
       " ('', 1)]"
      ]
     },
     "execution_count": 10,
     "metadata": {},
     "output_type": "execute_result"
    }
   ],
   "source": [
    "# Посмотрим что вышло\n",
    "\n",
    "mapped.take(10)"
   ]
  },
  {
   "cell_type": "code",
   "execution_count": 11,
   "id": "fa5a565e-e4c1-42e5-bafd-7cb1d8127b66",
   "metadata": {},
   "outputs": [],
   "source": [
    "# Вышло пока средне. Строки явно не слова. Для начала уберем в каждой строке лишние символы.\n",
    "\n",
    "import re\n",
    "def filterFuncLen(one_line_input):\n",
    "    checking = one_line_input[0]\n",
    "    checking = re.sub(r'\\-', '', checking, count=0)\n",
    "    checking = re.sub(r'\\ ', '', checking, count=0)\n",
    "    checking = re.sub(r'\\(', '', checking, count=0)\n",
    "    checking = re.sub(r'\\)', '', checking, count=0)\n",
    "    checking = re.sub(r'\\,', '', checking, count=0)\n",
    "    checking = re.sub(r'\\.', '', checking, count=0)\n",
    "    checking = re.sub(r'\\*', '', checking, count=0)\n",
    "    newRes = [checking,one_line_input[1]]\n",
    "    # one_line_input[0] = checking\n",
    "    return [newRes]\n",
    "\n",
    "mapped2 = mapped.flatMap(filterFuncLen)\n"
   ]
  },
  {
   "cell_type": "code",
   "execution_count": 12,
   "id": "62b36f32-3a48-435b-b1bc-16a121c5ee1f",
   "metadata": {},
   "outputs": [
    {
     "data": {
      "text/plain": [
       "[['', 1],\n",
       " ['', 1],\n",
       " ['', 1],\n",
       " ['', 1],\n",
       " ['', 1],\n",
       " ['', 1],\n",
       " ['', 1],\n",
       " ['', 1],\n",
       " ['', 1],\n",
       " ['', 1]]"
      ]
     },
     "execution_count": 12,
     "metadata": {},
     "output_type": "execute_result"
    }
   ],
   "source": [
    "# Убрали звездочки\n",
    "\n",
    "mapped2.take(10)"
   ]
  },
  {
   "cell_type": "code",
   "execution_count": 13,
   "id": "4d8260a2-13e5-49ab-a84b-1754dba5792e",
   "metadata": {},
   "outputs": [],
   "source": [
    "# точно также с помощью flatMap удалим слова, длина которых меньше трех включительно\n",
    "\n",
    "def filterFuncLen(one_line_input):\n",
    "        if len(one_line_input[0])>=3:\n",
    "            return [one_line_input]\n",
    "        else:\n",
    "            return []\n",
    "\n",
    "mapped3 = mapped2.flatMap(filterFuncLen)"
   ]
  },
  {
   "cell_type": "code",
   "execution_count": 14,
   "id": "2c5b2877-620e-443c-95c3-c3cb17f4a3c6",
   "metadata": {},
   "outputs": [
    {
     "data": {
      "text/plain": [
       "[['Булгаков', 1],\n",
       " ['Текст', 1],\n",
       " ['печатается', 1],\n",
       " ['последней', 1],\n",
       " ['прижизненной', 1],\n",
       " ['редакции', 1],\n",
       " ['рукопись', 1],\n",
       " ['хранится', 1],\n",
       " ['рукописном', 1],\n",
       " ['деле', 1]]"
      ]
     },
     "execution_count": 14,
     "metadata": {},
     "output_type": "execute_result"
    }
   ],
   "source": [
    "# Такой состав слов нас устраивает.\n",
    "\n",
    "mapped3.take(10)"
   ]
  },
  {
   "cell_type": "code",
   "execution_count": 15,
   "id": "77307121-93f3-43fb-aa63-17bd7af44c00",
   "metadata": {},
   "outputs": [],
   "source": [
    "# проводим reduceByKey. Собираем для каждого ключа сумму значений\n",
    "\n",
    "reduced = mapped3.reduceByKey(lambda x, y: x + y)"
   ]
  },
  {
   "cell_type": "code",
   "execution_count": 16,
   "id": "b38ea1a7-16f4-4efd-a3ef-f635646a1aae",
   "metadata": {},
   "outputs": [],
   "source": [
    "# Отсортируем\n",
    "\n",
    "sorted1 = reduced.sortBy(lambda x: x[1],ascending=False)"
   ]
  },
  {
   "cell_type": "code",
   "execution_count": 17,
   "id": "871aff0c-4d6e-467d-9603-2873cc49dbec",
   "metadata": {},
   "outputs": [
    {
     "data": {
      "text/plain": [
       "[('что', 1656),\n",
       " ('как', 749),\n",
       " ('его', 635),\n",
       " ('это', 518),\n",
       " ('было', 444),\n",
       " ('все', 369),\n",
       " ('она', 306),\n",
       " ('был', 294),\n",
       " ('так', 286),\n",
       " ('маргарита', 281),\n",
       " ('уже', 270),\n",
       " ('только', 264),\n",
       " ('под', 262),\n",
       " ('ему', 229),\n",
       " ('еще', 210),\n",
       " ('ответил', 209),\n",
       " ('меня', 205),\n",
       " ('этого', 199),\n",
       " ('сказал', 198),\n",
       " ('того', 196)]"
      ]
     },
     "execution_count": 17,
     "metadata": {},
     "output_type": "execute_result"
    }
   ],
   "source": [
    "# Посмотрим самые распространенные слова\n",
    "\n",
    "sorted1.take(20)"
   ]
  },
  {
   "cell_type": "code",
   "execution_count": 18,
   "id": "ecb21ab1-794c-478f-9cc9-592511dde7c8",
   "metadata": {},
   "outputs": [],
   "source": [
    "# Отсортируем\n",
    "\n",
    "sorted2 = reduced.sortBy(lambda x: x[1],ascending=True)"
   ]
  },
  {
   "cell_type": "code",
   "execution_count": 19,
   "id": "a93bf0f5-9b8c-43f3-86e2-bdac816ef8aa",
   "metadata": {},
   "outputs": [
    {
     "data": {
      "text/plain": [
       "[('Булгаков', 1),\n",
       " ('Текст', 1),\n",
       " ('печатается', 1),\n",
       " ('прижизненной', 1),\n",
       " ('хранится', 1),\n",
       " ('рукописном', 1),\n",
       " ('Государственной', 1),\n",
       " ('библиотеки', 1),\n",
       " ('СССР', 1),\n",
       " ('Ленина', 1),\n",
       " ('исправлениями', 1),\n",
       " ('полнениями', 1),\n",
       " ('поддиктовку', 1),\n",
       " ('Булгаковой', 1),\n",
       " ('наконец?', 1),\n",
       " ('совершает', 1),\n",
       " ('Гете', 1),\n",
       " ('небывало', 1),\n",
       " ('Патриарших', 1),\n",
       " ('оде', 1)]"
      ]
     },
     "execution_count": 19,
     "metadata": {},
     "output_type": "execute_result"
    }
   ],
   "source": [
    "# Посмотрим самые не распространенные слова\n",
    "\n",
    "sorted2.take(20)"
   ]
  },
  {
   "cell_type": "code",
   "execution_count": 20,
   "id": "39750bc0-c280-4346-b9f7-0f57fcbcf6af",
   "metadata": {},
   "outputs": [
    {
     "name": "stdout",
     "output_type": "stream",
     "text": [
      "что - 1656\n",
      "как - 749\n",
      "его - 635\n",
      "это - 518\n",
      "было - 444\n",
      "все - 369\n",
      "она - 306\n",
      "был - 294\n",
      "так - 286\n",
      "маргарита - 281\n",
      "уже - 270\n",
      "только - 264\n",
      "под - 262\n",
      "ему - 229\n",
      "еще - 210\n",
      "ответил - 209\n",
      "меня - 205\n",
      "этого - 199\n",
      "сказал - 198\n",
      "того - 196\n",
      "мне - 194\n",
      "том - 181\n",
      "него - 178\n",
      "чтобы - 172\n",
      "вас - 170\n",
      "очень - 167\n",
      "время - 167\n",
      "тут - 164\n",
      "где - 161\n",
      "нет - 161\n",
      "глаза - 151\n",
      "воланд - 150\n",
      "коровьев - 149\n",
      "вот - 146\n",
      "этот - 145\n",
      "Тут - 139\n",
      "прокуратор - 139\n",
      "кот - 137\n",
      "когда - 133\n",
      "человек - 130\n",
      "чем - 130\n",
      "при - 129\n",
      "себя - 129\n",
      "вам - 127\n",
      "тот - 124\n",
      "Иван - 122\n",
      "ничего - 119\n",
      "быть - 118\n",
      "раз - 117\n",
      "над - 117\n",
      "иван - 115\n",
      "была - 114\n",
      "ним - 114\n",
      "перед - 113\n",
      "азазелло - 112\n",
      "Маргарита - 111\n",
      "этом - 109\n",
      "были - 108\n",
      "совершенно - 108\n",
      "даже - 107\n",
      "или - 106\n",
      "если - 106\n",
      "Это - 106\n",
      "пилат - 105\n",
      "чтото - 104\n",
      "лицо - 104\n",
      "может - 100\n",
      "про - 100\n",
      "они - 99\n",
      "Так - 97\n",
      "через - 97\n",
      "нее - 96\n",
      "стал - 95\n",
      "кто - 94\n",
      "без - 94\n",
      "будет - 94\n",
      "теперь - 91\n",
      "иванович - 91\n",
      "ней - 88\n",
      "Она - 86\n",
      "один - 84\n",
      "голову - 84\n",
      "сейчас - 83\n",
      "там - 83\n",
      "конечно - 83\n",
      "себе - 82\n",
      "будто - 82\n",
      "гость - 80\n",
      "Что - 78\n",
      "вдруг - 78\n",
      "руку - 78\n",
      "после - 78\n",
      "опять - 77\n",
      "этой - 77\n",
      "тем - 76\n",
      "Нет - 75\n",
      "здесь - 75\n",
      "голос - 73\n",
      "глазами - 73\n",
      "них - 72\n",
      "чего - 72\n"
     ]
    }
   ],
   "source": [
    "# Принт в цикле\n",
    "\n",
    "output = sorted1.collect()\n",
    "i = 100\n",
    "for (word, count) in output:\n",
    "    print(\"{word} - {count}\".format(word = word, count = count))\n",
    "    \n",
    "    i-=1\n",
    "    if i < 0 :\n",
    "        break"
   ]
  },
  {
   "cell_type": "code",
   "execution_count": 21,
   "id": "45a07374-6d16-4368-8a35-db97b36b765a",
   "metadata": {},
   "outputs": [],
   "source": [
    "# Остановим сессию и контекст Спарка\n",
    "sc.stop()\n",
    "spark.stop()"
   ]
  },
  {
   "cell_type": "code",
   "execution_count": null,
   "id": "68eb56c0-7556-432e-9bb8-4d06b20d4f79",
   "metadata": {},
   "outputs": [],
   "source": []
  },
  {
   "cell_type": "code",
   "execution_count": null,
   "id": "d5cdbc14-c03e-4a7b-9ca8-244c5313c6be",
   "metadata": {},
   "outputs": [],
   "source": []
  },
  {
   "cell_type": "code",
   "execution_count": null,
   "id": "faa1258e-166f-432f-9ede-308d2e8d2aa0",
   "metadata": {},
   "outputs": [],
   "source": []
  },
  {
   "cell_type": "code",
   "execution_count": null,
   "id": "ee5c8881-b2e8-4e41-96cd-1a829ffbf9fb",
   "metadata": {},
   "outputs": [],
   "source": []
  },
  {
   "cell_type": "code",
   "execution_count": null,
   "id": "19df6f9c-f116-4b72-b4fa-dfb5d7df779a",
   "metadata": {},
   "outputs": [],
   "source": []
  },
  {
   "cell_type": "code",
   "execution_count": null,
   "id": "330ddf38-b933-4836-88aa-14e9ec6e984d",
   "metadata": {},
   "outputs": [],
   "source": []
  },
  {
   "cell_type": "code",
   "execution_count": null,
   "id": "d91645c1-3472-4e00-a681-f0408355dc49",
   "metadata": {},
   "outputs": [],
   "source": []
  },
  {
   "cell_type": "code",
   "execution_count": null,
   "id": "840595fe-11ab-474b-b4e7-28bafed7b54c",
   "metadata": {},
   "outputs": [],
   "source": []
  },
  {
   "cell_type": "code",
   "execution_count": null,
   "id": "ce39687d-b508-4dc9-b898-94d5452f5b85",
   "metadata": {},
   "outputs": [],
   "source": []
  },
  {
   "cell_type": "code",
   "execution_count": null,
   "id": "d65bf75d-ffe5-4f1e-97c2-8d33d1d0e565",
   "metadata": {},
   "outputs": [],
   "source": []
  },
  {
   "cell_type": "code",
   "execution_count": null,
   "id": "3c7a0598-2c87-40a1-a70d-8b5135258b19",
   "metadata": {},
   "outputs": [],
   "source": []
  }
 ],
 "metadata": {
  "kernelspec": {
   "display_name": "Python 3 (ipykernel)",
   "language": "python",
   "name": "python3"
  },
  "language_info": {
   "codemirror_mode": {
    "name": "ipython",
    "version": 3
   },
   "file_extension": ".py",
   "mimetype": "text/x-python",
   "name": "python",
   "nbconvert_exporter": "python",
   "pygments_lexer": "ipython3",
   "version": "3.9.1"
  }
 },
 "nbformat": 4,
 "nbformat_minor": 5
}
